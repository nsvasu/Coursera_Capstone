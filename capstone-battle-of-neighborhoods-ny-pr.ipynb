{
    "nbformat_minor": 1, 
    "cells": [
        {
            "source": "## Coursera - IBM Data Science Professional Certificate\n\n### Capstone Assignment - The Battle of Neighborhoods - New York and Paris", 
            "cell_type": "markdown", 
            "metadata": {
                "collapsed": true
            }
        }, 
        {
            "source": "#### 1. Introduction\n\n**Problem statement:**  A travel booking websites wants to help their potential customers understand the similarities/dissimilarites between New Your and Paris so that the customers can understand and make informed decision to choose their holiday destination.\n\nThere are many famous tourist attractions/places in Paris like \"Eifel Tower\", \"The Arc de Triomphe (Arch of Triumph)\", \"Courtyard of the Museum of Louvre, and its pyramid\", art galleries, theaters, antique stores.  Apart from these you can find kids favourite parks, cinemas, museums; ladies favourite shopping malls, street markets; mens favourite cafes and other shops.\n\nSimilarly, you can find many famous tourist attactions in New York too such as Midtown Manhattan, Times Square, the Unisphere, the Brooklyn Bridge, Lower Manhattan with One World Trade Center, Central Park, the headquarters of the United Nations, and the Statue of Liberty and others.\n\n**Approach:** The above information is published and anyone can google it and read it on wikipedia site.  But someone has to spend lots of time researching and find the similarities and dissimilarities among the cities.\n\nTo understand the similarities between New York and Paris, we analyze the data from Foursquare, a popular local search-and-discovery application which provides search results for its users. The application provides personalized recommendations of places to go near a certain location.  Foursquare enables users to share their current location with friends, rate and comment on venues they visit and read reviews of venues that other users have provided on the application.\n\nTo compare New York and Paris, we will use geographical datasets of the two cities. We will consider the neighborhoods with in the 500-1000 meters from the center of the city location. We then analyze the venues recommendations from Foursquare through their API.  We create 5-10 clusters from each city and then compare and analyze them against each other and provide the conclusion about how the neighborhoods are similar and dissimilar they are.", 
            "cell_type": "markdown", 
            "metadata": {}
        }, 
        {
            "execution_count": null, 
            "cell_type": "code", 
            "metadata": {}, 
            "outputs": [], 
            "source": ""
        }
    ], 
    "metadata": {
        "kernelspec": {
            "display_name": "Python 3.5", 
            "name": "python3", 
            "language": "python"
        }, 
        "language_info": {
            "mimetype": "text/x-python", 
            "nbconvert_exporter": "python", 
            "version": "3.5.5", 
            "name": "python", 
            "file_extension": ".py", 
            "pygments_lexer": "ipython3", 
            "codemirror_mode": {
                "version": 3, 
                "name": "ipython"
            }
        }
    }, 
    "nbformat": 4
}