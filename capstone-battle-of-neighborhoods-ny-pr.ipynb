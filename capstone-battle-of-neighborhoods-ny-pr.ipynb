{
    "nbformat_minor": 1, 
    "cells": [
        {
            "source": "## Coursera - IBM Data Science Professional Certificate\n\n### Capstone Assignment - The Battle of Neighborhoods - New York and Paris", 
            "cell_type": "markdown", 
            "metadata": {
                "collapsed": true
            }
        }, 
        {
            "source": "#### 1. Introduction\n\n**Problem statement:**  A travel booking websites wants to help their potential customers understand the similarities/dissimilarites between New Your and Paris so that the customers can understand and make informed decision to choose their holiday destination.\n\nThere are many famous tourist attractions/places in Paris like \"Eifel Tower\", \"The Arc de Triomphe (Arch of Triumph)\", \"Courtyard of the Museum of Louvre, and its pyramid\", art galleries, theaters, antique stores.  Apart from these you can find kids favourite parks, cinemas, museums; ladies favourite shopping malls, street markets; mens favourite cafes and other shops.\n\nSimilarly, you can find many famous tourist attactions in New York too such as Midtown Manhattan, Times Square, the Unisphere, the Brooklyn Bridge, Lower Manhattan with One World Trade Center, Central Park, the headquarters of the United Nations, and the Statue of Liberty and others.\n\n**Approach:** The above information is published and anyone can google it and read it on wikipedia site.  But someone has to spend lots of time researching and find the similarities and dissimilarities among the cities.\n\nTo understand the similarities between New York and Paris, we analyze the data from Foursquare, a popular local search-and-discovery application which provides search results for its users. The application provides personalized recommendations of places to go near a certain location.  Foursquare enables users to share their current location with friends, rate and comment on venues they visit and read reviews of venues that other users have provided on the application.\n\nTo compare New York and Paris, we will use geographical datasets of the two cities. We will consider the neighborhoods with in the 500-1000 meters from the center of the city location. We then analyze the venues recommendations from Foursquare through their API.  We create 5-10 clusters from each city and then compare and analyze them against each other and provide the conclusion about how the neighborhoods are similar and dissimilar they are.", 
            "cell_type": "markdown", 
            "metadata": {}
        }, 
        {
            "source": "#### 2. Paris and New York Geographical Data\n\n**Paris geographical data**\n\n\nThe city of Paris is divided into twenty arrondissements municipaux, administrative districts, more simply referred to as arrondissements. These are not to be confused with departmental arrondissements, which subdivide the 100 French d\u00e9partements. The word \"arrondissement\", when applied to Paris, refers almost always to the municipal arrondissements listed below. The number of the arrondissement is indicated by the last two digits in most Parisian postal codes (75001 up to 75020).\n\nThe twenty arrondissements are arranged in the form of a clockwise spiral (often likened to a snail shell), starting from the middle of the city, with the first on the Right Bank (north bank) of the Seine. Lyon and Marseille have, more recently, also been subdivided into arrondissements.\n\nhttps://en.wikipedia.org/wiki/Arrondissements_of_Paris\n\nIn French, notably on street signs, the number is often given in Roman numerals. For example, the Eiffel Tower belongs to the VIIe arrondissement while Gare de l'Est is in the Xe arrondissement. In daily speech, people use only the ordinal number corresponding to the arrondissement, e.g. \"Elle habite dans le sixi\u00e8me\", \"She lives in the 6th (arrondissement)\".\n\n\nWe will extract the Paris municipal borough data from https://opendata.paris.fr/page/home/ open datasets available online.  The below url can be used to download the json data.\n\nhttps://opendata.paris.fr/explore/dataset/arrondissements/download?format=json&timezone=Europe/Berlin&use_labels_for_header=true\n", 
            "cell_type": "markdown", 
            "metadata": {}
        }, 
        {
            "execution_count": 11, 
            "cell_type": "code", 
            "metadata": {}, 
            "outputs": [], 
            "source": "import pandas as pd\nimport numpy as np\nimport urllib.request \nimport json\nfrom pandas.io.json import json_normalize"
        }, 
        {
            "execution_count": 12, 
            "cell_type": "code", 
            "metadata": {}, 
            "outputs": [], 
            "source": "# Get Paris geography data rom https://opendata.paris.fr\n\nwith urllib.request.urlopen(\"https://opendata.paris.fr/explore/dataset/arrondissements/download?format=json&timezone=Europe/Berlin&use_labels_for_header=true\") as paris_url:\n   paris_data = json.loads(paris_url.read().decode('utf-8'))"
        }, 
        {
            "source": "### Below is a sample Paris dataset.", 
            "cell_type": "markdown", 
            "metadata": {}
        }, 
        {
            "execution_count": 13, 
            "cell_type": "code", 
            "metadata": {
                "scrolled": false
            }, 
            "outputs": [
                {
                    "execution_count": 13, 
                    "metadata": {}, 
                    "data": {
                        "text/html": "<div>\n<style scoped>\n    .dataframe tbody tr th:only-of-type {\n        vertical-align: middle;\n    }\n\n    .dataframe tbody tr th {\n        vertical-align: top;\n    }\n\n    .dataframe thead th {\n        text-align: right;\n    }\n</style>\n<table border=\"1\" class=\"dataframe\">\n  <thead>\n    <tr style=\"text-align: right;\">\n      <th></th>\n      <th>datasetid</th>\n      <th>fields.c_ar</th>\n      <th>fields.c_arinsee</th>\n      <th>fields.geom.coordinates</th>\n      <th>fields.geom.type</th>\n      <th>fields.geom_x_y</th>\n      <th>fields.l_ar</th>\n      <th>fields.l_aroff</th>\n      <th>fields.longueur</th>\n      <th>fields.n_sq_ar</th>\n      <th>fields.n_sq_co</th>\n      <th>fields.objectid</th>\n      <th>fields.perimetre</th>\n      <th>fields.surface</th>\n      <th>geometry.coordinates</th>\n      <th>geometry.type</th>\n      <th>record_timestamp</th>\n      <th>recordid</th>\n    </tr>\n  </thead>\n  <tbody>\n    <tr>\n      <th>0</th>\n      <td>arrondissements</td>\n      <td>2</td>\n      <td>75102</td>\n      <td>[[[2.351518483670821, 48.8644258050741], [2.35...</td>\n      <td>Polygon</td>\n      <td>[48.86827922252252, 2.3428025468913636]</td>\n      <td>2\u00e8me Ardt</td>\n      <td>Bourse</td>\n      <td>4553.938764</td>\n      <td>750000002</td>\n      <td>750001537</td>\n      <td>2</td>\n      <td>4554.104360</td>\n      <td>9.911537e+05</td>\n      <td>[2.3428025468913636, 48.86827922252252]</td>\n      <td>Point</td>\n      <td>2019-03-01T00:00:31+01:00</td>\n      <td>fdcdd162efd8d445fdecb7b95ed7df1ff4c59f26</td>\n    </tr>\n    <tr>\n      <th>1</th>\n      <td>arrondissements</td>\n      <td>3</td>\n      <td>75103</td>\n      <td>[[[2.363828096062925, 48.86750443060333], [2.3...</td>\n      <td>Polygon</td>\n      <td>[48.86287238001689, 2.3600009858976927]</td>\n      <td>3\u00e8me Ardt</td>\n      <td>Temple</td>\n      <td>4519.071982</td>\n      <td>750000003</td>\n      <td>750001537</td>\n      <td>3</td>\n      <td>4519.263648</td>\n      <td>1.170883e+06</td>\n      <td>[2.3600009858976927, 48.86287238001689]</td>\n      <td>Point</td>\n      <td>2019-03-01T00:00:31+01:00</td>\n      <td>469806e90b8b4676461b1845f113b25397cd5241</td>\n    </tr>\n    <tr>\n      <th>2</th>\n      <td>arrondissements</td>\n      <td>12</td>\n      <td>75112</td>\n      <td>[[[2.413879624300607, 48.83357143972265], [2.4...</td>\n      <td>Polygon</td>\n      <td>[48.83497438148051, 2.421324900784681]</td>\n      <td>12\u00e8me Ardt</td>\n      <td>Reuilly</td>\n      <td>24088.038922</td>\n      <td>750000012</td>\n      <td>750001537</td>\n      <td>12</td>\n      <td>24089.666298</td>\n      <td>1.631478e+07</td>\n      <td>[2.421324900784681, 48.83497438148051]</td>\n      <td>Point</td>\n      <td>2019-03-01T00:00:31+01:00</td>\n      <td>e8ec3494fa75e33f9cc5308108db755f2bafbd7c</td>\n    </tr>\n    <tr>\n      <th>3</th>\n      <td>arrondissements</td>\n      <td>1</td>\n      <td>75101</td>\n      <td>[[[2.328007329038849, 48.86991742140715], [2.3...</td>\n      <td>Polygon</td>\n      <td>[48.86256270183605, 2.3364433620533847]</td>\n      <td>1er Ardt</td>\n      <td>Louvre</td>\n      <td>6054.680862</td>\n      <td>750000001</td>\n      <td>750001537</td>\n      <td>1</td>\n      <td>6054.936862</td>\n      <td>1.824613e+06</td>\n      <td>[2.3364433620533847, 48.86256270183605]</td>\n      <td>Point</td>\n      <td>2019-03-01T00:00:31+01:00</td>\n      <td>fd746ffccedf5bb7893b6ec2d7c8daf24a6f1fb5</td>\n    </tr>\n    <tr>\n      <th>4</th>\n      <td>arrondissements</td>\n      <td>4</td>\n      <td>75104</td>\n      <td>[[[2.368512371393433, 48.85573412813671], [2.3...</td>\n      <td>Polygon</td>\n      <td>[48.854341426272896, 2.357629620324993]</td>\n      <td>4\u00e8me Ardt</td>\n      <td>H\u00f4tel-de-Ville</td>\n      <td>5420.636779</td>\n      <td>750000004</td>\n      <td>750001537</td>\n      <td>4</td>\n      <td>5420.908434</td>\n      <td>1.600586e+06</td>\n      <td>[2.357629620324993, 48.854341426272896]</td>\n      <td>Point</td>\n      <td>2019-03-01T00:00:31+01:00</td>\n      <td>437ce5d06deeb12a187baea9fbd3e15c2ae87852</td>\n    </tr>\n  </tbody>\n</table>\n</div>", 
                        "text/plain": "         datasetid  fields.c_ar  fields.c_arinsee  \\\n0  arrondissements            2             75102   \n1  arrondissements            3             75103   \n2  arrondissements           12             75112   \n3  arrondissements            1             75101   \n4  arrondissements            4             75104   \n\n                             fields.geom.coordinates fields.geom.type  \\\n0  [[[2.351518483670821, 48.8644258050741], [2.35...          Polygon   \n1  [[[2.363828096062925, 48.86750443060333], [2.3...          Polygon   \n2  [[[2.413879624300607, 48.83357143972265], [2.4...          Polygon   \n3  [[[2.328007329038849, 48.86991742140715], [2.3...          Polygon   \n4  [[[2.368512371393433, 48.85573412813671], [2.3...          Polygon   \n\n                           fields.geom_x_y fields.l_ar  fields.l_aroff  \\\n0  [48.86827922252252, 2.3428025468913636]   2\u00e8me Ardt          Bourse   \n1  [48.86287238001689, 2.3600009858976927]   3\u00e8me Ardt          Temple   \n2   [48.83497438148051, 2.421324900784681]  12\u00e8me Ardt         Reuilly   \n3  [48.86256270183605, 2.3364433620533847]    1er Ardt          Louvre   \n4  [48.854341426272896, 2.357629620324993]   4\u00e8me Ardt  H\u00f4tel-de-Ville   \n\n   fields.longueur  fields.n_sq_ar  fields.n_sq_co  fields.objectid  \\\n0      4553.938764       750000002       750001537                2   \n1      4519.071982       750000003       750001537                3   \n2     24088.038922       750000012       750001537               12   \n3      6054.680862       750000001       750001537                1   \n4      5420.636779       750000004       750001537                4   \n\n   fields.perimetre  fields.surface                     geometry.coordinates  \\\n0       4554.104360    9.911537e+05  [2.3428025468913636, 48.86827922252252]   \n1       4519.263648    1.170883e+06  [2.3600009858976927, 48.86287238001689]   \n2      24089.666298    1.631478e+07   [2.421324900784681, 48.83497438148051]   \n3       6054.936862    1.824613e+06  [2.3364433620533847, 48.86256270183605]   \n4       5420.908434    1.600586e+06  [2.357629620324993, 48.854341426272896]   \n\n  geometry.type           record_timestamp  \\\n0         Point  2019-03-01T00:00:31+01:00   \n1         Point  2019-03-01T00:00:31+01:00   \n2         Point  2019-03-01T00:00:31+01:00   \n3         Point  2019-03-01T00:00:31+01:00   \n4         Point  2019-03-01T00:00:31+01:00   \n\n                                   recordid  \n0  fdcdd162efd8d445fdecb7b95ed7df1ff4c59f26  \n1  469806e90b8b4676461b1845f113b25397cd5241  \n2  e8ec3494fa75e33f9cc5308108db755f2bafbd7c  \n3  fd746ffccedf5bb7893b6ec2d7c8daf24a6f1fb5  \n4  437ce5d06deeb12a187baea9fbd3e15c2ae87852  "
                    }, 
                    "output_type": "execute_result"
                }
            ], 
            "source": "paris_df = json_normalize(paris_data)\nparis_df.head()"
        }, 
        {
            "source": "In our exercise we will use the location (latitude and longitude) information and from the above table the arrondissement number and name.", 
            "cell_type": "markdown", 
            "metadata": {}
        }, 
        {
            "source": "**New York geographical data**\n\nNew York Neighborhood has a total of 5 boroughs and 306 neighborhoods. In order to segement the neighborhoods and explore them, we will essentially need a dataset that contains the 5 boroughs and the neighborhoods that exist in each borough as well as the the latitude and logitude coordinates of each neighborhood.\n\nLuckily, this dataset exists for free on the web, here is the link to the dataset: https://geo.nyu.edu/catalog/nyu_2451_34572\n\nFor our convenience, I will simply use the file that is already placed on the IBM server, so we can simply run a wget command and access the data.", 
            "cell_type": "markdown", 
            "metadata": {}
        }, 
        {
            "execution_count": 14, 
            "cell_type": "code", 
            "metadata": {
                "scrolled": false
            }, 
            "outputs": [], 
            "source": "!wget -q -O 'newyork_data.json' https://cocl.us/new_york_dataset\n    \nwith open('newyork_data.json') as json_data:\n    newyork_data = json.load(json_data)"
        }, 
        {
            "source": "**Below is a sample New York dataset.**", 
            "cell_type": "markdown", 
            "metadata": {}
        }, 
        {
            "execution_count": 15, 
            "cell_type": "code", 
            "metadata": {
                "scrolled": true
            }, 
            "outputs": [
                {
                    "execution_count": 15, 
                    "metadata": {}, 
                    "data": {
                        "text/html": "<div>\n<style scoped>\n    .dataframe tbody tr th:only-of-type {\n        vertical-align: middle;\n    }\n\n    .dataframe tbody tr th {\n        vertical-align: top;\n    }\n\n    .dataframe thead th {\n        text-align: right;\n    }\n</style>\n<table border=\"1\" class=\"dataframe\">\n  <thead>\n    <tr style=\"text-align: right;\">\n      <th></th>\n      <th>bbox</th>\n      <th>crs.properties.name</th>\n      <th>crs.type</th>\n      <th>features</th>\n      <th>totalFeatures</th>\n      <th>type</th>\n    </tr>\n  </thead>\n  <tbody>\n    <tr>\n      <th>0</th>\n      <td>[-74.2492599487305, 40.5033187866211, -73.7061...</td>\n      <td>urn:ogc:def:crs:EPSG::4326</td>\n      <td>name</td>\n      <td>[{'geometry_name': 'geom', 'id': 'nyu_2451_345...</td>\n      <td>306</td>\n      <td>FeatureCollection</td>\n    </tr>\n  </tbody>\n</table>\n</div>", 
                        "text/plain": "                                                bbox  \\\n0  [-74.2492599487305, 40.5033187866211, -73.7061...   \n\n          crs.properties.name crs.type  \\\n0  urn:ogc:def:crs:EPSG::4326     name   \n\n                                            features  totalFeatures  \\\n0  [{'geometry_name': 'geom', 'id': 'nyu_2451_345...            306   \n\n                type  \n0  FeatureCollection  "
                    }, 
                    "output_type": "execute_result"
                }
            ], 
            "source": "ny_df = json_normalize(newyork_data)\nny_df.head()"
        }, 
        {
            "source": "\n### Foursquare Local search and recommendations API:\n\nFoursquare lets users search for restaurants, nightlife spots, shops and other places of interest in their surrounding area. It is also possible to search other areas by entering the name of a remote location. The app displays personalized recommendations based on the time of day, displaying breakfast places in the morning, dinner places in the evening etc. Recommendations are personalized based on factors that include a user's check-in history, their \"Tastes\" and their venue ratings.\n\nIn our assignment we will use the Foursquare API feature for exploring the top recommended venues nearby a particular neighboorhood location. We will combining the Paris and New York geographical data with Foursquare venues.  Then we will use the data for clustering the neighborhoods and look for basic similarities/dissimilarities between these neighborhoods of Paris and New York.", 
            "cell_type": "markdown", 
            "metadata": {}
        }, 
        {
            "execution_count": null, 
            "cell_type": "code", 
            "metadata": {}, 
            "outputs": [], 
            "source": ""
        }
    ], 
    "metadata": {
        "kernelspec": {
            "display_name": "Python 3.5", 
            "name": "python3", 
            "language": "python"
        }, 
        "language_info": {
            "mimetype": "text/x-python", 
            "nbconvert_exporter": "python", 
            "version": "3.5.5", 
            "name": "python", 
            "file_extension": ".py", 
            "pygments_lexer": "ipython3", 
            "codemirror_mode": {
                "version": 3, 
                "name": "ipython"
            }
        }
    }, 
    "nbformat": 4
}